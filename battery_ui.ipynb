import ipywidgets as widgets
from IPython.display import display, clear_output
import pandas as pd
import random
import datetime
import io

# UI widgets
power_input = widgets.FloatText(description="Power (MW):", value=50.0)
energy_input = widgets.FloatText(description="Energy (MWh):", value=200.0)
cycles_input = widgets.IntText(description="Cycles:", value=300)
start_date_input = widgets.DatePicker(description="Start Date:")
end_date_input = widgets.DatePicker(description="End Date:")
submit_button = widgets.Button(description="Generate Report", button_style='success')
output = widgets.Output()

# Generate mock data
def generate_mock_data(power, energy, cycles, start_date, end_date):
    date_range = pd.date_range(start=start_date, end=end_date, freq='D')
    data = {
        'Date': date_range,
        'Energy Discharged (MWh)': [round(random.uniform(0.5, 1.0) * energy, 2) for _ in date_range],
        'Power Used (MW)': [round(random.uniform(0.5, 1.0) * power, 2) for _ in date_range],
        'Cycle Count': [min(cycles, int(random.uniform(0, 1) * cycles)) for _ in date_range],
    }
    return pd.DataFrame(data)

# Button click logic
def on_submit_clicked(b):
    with output:
        clear_output()
        power = power_input.value
        energy = energy_input.value
        cycles = cycles_input.value
        start_date = start_date_input.value
        end_date = end_date_input.value

        if not all([power, energy, cycles, start_date, end_date]):
            print("Please fill in all fields.")
            return

        if end_date < start_date:
            print("End date must be after start date.")
            return

        df = generate_mock_data(power, energy, cycles, start_date, end_date)

        # Save to CSV in-memory
        csv_buffer = io.StringIO()
        df.to_csv(csv_buffer, index=False)
        csv_data = csv_buffer.getvalue()
        b64 = csv_data.encode("utf-8")
        fname = "battery_report.csv"

        # Show results
        display(df.head())

        # Download link
        print("Click the link below to download the full report:")
        display(widgets.HTML(
            value=f'<a download="{fname}" href="data:text/csv;charset=utf-8,{csv_data}" target="_blank">Download Report</a>'
        ))

submit_button.on_click(on_submit_clicked)

# Display UI
ui = widgets.VBox([
    power_input,
    energy_input,
    cycles_input,
    start_date_input,
    end_date_input,
    submit_button,
    output
])
display(ui)
